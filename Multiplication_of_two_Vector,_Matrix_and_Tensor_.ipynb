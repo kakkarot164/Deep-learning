{
  "nbformat": 4,
  "nbformat_minor": 0,
  "metadata": {
    "colab": {
      "provenance": []
    },
    "kernelspec": {
      "name": "python3",
      "display_name": "Python 3"
    },
    "language_info": {
      "name": "python"
    }
  },
  "cells": [
    {
      "cell_type": "markdown",
      "source": [
        "Multiplication of 2 matrix"
      ],
      "metadata": {
        "id": "GPhCePH9bqUG"
      }
    },
    {
      "cell_type": "code",
      "source": [
        "import numpy as np\n",
        "import tensorflow as tf"
      ],
      "metadata": {
        "id": "RWNZFQhobwU1"
      },
      "execution_count": 1,
      "outputs": []
    },
    {
      "cell_type": "code",
      "execution_count": 2,
      "metadata": {
        "id": "gLCRbiRLDLE8",
        "colab": {
          "base_uri": "https://localhost:8080/"
        },
        "outputId": "78b456bf-9cfe-40fb-cb99-afe9456fa969"
      },
      "outputs": [
        {
          "output_type": "execute_result",
          "data": {
            "text/plain": [
              "array([[ 2,  4],\n",
              "       [12, 16],\n",
              "       [30, 36],\n",
              "       [49, 64]])"
            ]
          },
          "metadata": {},
          "execution_count": 2
        }
      ],
      "source": [
        "A= np.array([[1,2],[3,4],[5,6,],[7,8]])\n",
        "B=np.array([[2,2],[4,4],[6,6,],[7,8]])\n",
        "c = A*B\n",
        "c\n"
      ]
    },
    {
      "cell_type": "markdown",
      "source": [
        "Vector Multiplication"
      ],
      "metadata": {
        "id": "A35a81xicPu9"
      }
    },
    {
      "cell_type": "code",
      "source": [
        "V1= np.array([1,2,3,4])\n",
        "V2=np.array([3,2,5,4])\n",
        "Vector_multiplication = V1*V2\n",
        "Vector_multiplication\n"
      ],
      "metadata": {
        "colab": {
          "base_uri": "https://localhost:8080/"
        },
        "id": "dsHMY_Y1b6aa",
        "outputId": "c6a7624a-b093-4f64-86e6-2bca32827664"
      },
      "execution_count": 3,
      "outputs": [
        {
          "output_type": "execute_result",
          "data": {
            "text/plain": [
              "array([ 3,  4, 15, 16])"
            ]
          },
          "metadata": {},
          "execution_count": 3
        }
      ]
    },
    {
      "cell_type": "markdown",
      "source": [
        "Tensor Multiplication"
      ],
      "metadata": {
        "id": "rNibh-l1cUEV"
      }
    },
    {
      "cell_type": "code",
      "source": [
        "T1 = tf.constant ([[1,2],[3,4],[5,6,],[7,8]])\n",
        "T2 = tf.constant([[3,2],[5,4],[7,6,],[9,8]])\n",
        "tensor_multiplication= T1*T2\n",
        "tensor_multiplication\n"
      ],
      "metadata": {
        "colab": {
          "base_uri": "https://localhost:8080/"
        },
        "id": "-VnPQb9RcLba",
        "outputId": "9276bfe0-f1d8-4219-fdde-6107b86c0204"
      },
      "execution_count": 4,
      "outputs": [
        {
          "output_type": "execute_result",
          "data": {
            "text/plain": [
              "<tf.Tensor: shape=(4, 2), dtype=int32, numpy=\n",
              "array([[ 3,  4],\n",
              "       [15, 16],\n",
              "       [35, 36],\n",
              "       [63, 64]], dtype=int32)>"
            ]
          },
          "metadata": {},
          "execution_count": 4
        }
      ]
    },
    {
      "cell_type": "code",
      "source": [],
      "metadata": {
        "id": "dJzqea2Icfzy"
      },
      "execution_count": null,
      "outputs": []
    }
  ]
}
{
  "nbformat": 4,
  "nbformat_minor": 0,
  "metadata": {
    "colab": {
      "provenance": []
    },
    "kernelspec": {
      "name": "python3",
      "display_name": "Python 3"
    },
    "language_info": {
      "name": "python"
    }
  },
  "cells": [
    {
      "cell_type": "markdown",
      "source": [
        "Addition of 2 vectors"
      ],
      "metadata": {
        "id": "FIeG7hiJdUqw"
      }
    },
    {
      "cell_type": "code",
      "source": [
        "import numpy as np\n",
        "import tensorflow as tf"
      ],
      "metadata": {
        "id": "tEXlqhVddqPD"
      },
      "execution_count": 1,
      "outputs": []
    },
    {
      "cell_type": "code",
      "execution_count": 2,
      "metadata": {
        "colab": {
          "base_uri": "https://localhost:8080/"
        },
        "id": "-py0ScigckPX",
        "outputId": "d564dddb-50c7-4ef6-f2b8-401fd82c3ed7"
      },
      "outputs": [
        {
          "output_type": "execute_result",
          "data": {
            "text/plain": [
              "array([4, 4, 8, 8])"
            ]
          },
          "metadata": {},
          "execution_count": 2
        }
      ],
      "source": [
        "V1= np.array([1,2,3,4])\n",
        "V2=np.array([3,2,5,4])\n",
        "Vector_add = V1+V2\n",
        "Vector_add"
      ]
    },
    {
      "cell_type": "markdown",
      "source": [
        "Matrix Addition"
      ],
      "metadata": {
        "id": "99hhu76cduxA"
      }
    },
    {
      "cell_type": "code",
      "source": [
        "A= np.array([[1,2],[3,4],[5,6,],[7,8]])\n",
        "B=np.array([[2,2],[4,4],[6,6,],[7,8]])\n",
        "c = A+B\n",
        "c"
      ],
      "metadata": {
        "colab": {
          "base_uri": "https://localhost:8080/"
        },
        "id": "MBLLgMLJdntL",
        "outputId": "3265da3c-2d98-4259-b3d6-44d2e3c8d740"
      },
      "execution_count": 3,
      "outputs": [
        {
          "output_type": "execute_result",
          "data": {
            "text/plain": [
              "array([[ 3,  4],\n",
              "       [ 7,  8],\n",
              "       [11, 12],\n",
              "       [14, 16]])"
            ]
          },
          "metadata": {},
          "execution_count": 3
        }
      ]
    },
    {
      "cell_type": "markdown",
      "source": [
        "Tensor addition"
      ],
      "metadata": {
        "id": "1oaFm3ZLd2BI"
      }
    },
    {
      "cell_type": "code",
      "source": [
        "T1 = tf.constant ([[1,2],[3,4],[5,6,],[7,8]])\n",
        "T2 = tf.constant([[3,2],[5,4],[7,6,],[9,8]])\n",
        "tensor_add= T1+T2\n",
        "tensor_add"
      ],
      "metadata": {
        "colab": {
          "base_uri": "https://localhost:8080/"
        },
        "id": "uRRY29Rhdz4K",
        "outputId": "b3c4c303-1c62-4d16-93e9-1acc85c036e8"
      },
      "execution_count": 4,
      "outputs": [
        {
          "output_type": "execute_result",
          "data": {
            "text/plain": [
              "<tf.Tensor: shape=(4, 2), dtype=int32, numpy=\n",
              "array([[ 4,  4],\n",
              "       [ 8,  8],\n",
              "       [12, 12],\n",
              "       [16, 16]], dtype=int32)>"
            ]
          },
          "metadata": {},
          "execution_count": 4
        }
      ]
    },
    {
      "cell_type": "code",
      "source": [],
      "metadata": {
        "id": "TWiU8BwWd7qh"
      },
      "execution_count": null,
      "outputs": []
    }
  ]
}
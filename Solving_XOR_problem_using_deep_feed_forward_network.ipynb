{
  "nbformat": 4,
  "nbformat_minor": 0,
  "metadata": {
    "colab": {
      "provenance": []
    },
    "kernelspec": {
      "name": "python3",
      "display_name": "Python 3"
    },
    "language_info": {
      "name": "python"
    }
  },
  "cells": [
    {
      "cell_type": "code",
      "execution_count": 1,
      "metadata": {
        "id": "gLCRbiRLDLE8",
        "colab": {
          "base_uri": "https://localhost:8080/"
        },
        "outputId": "70666f31-9ca9-408f-d465-9a4723d481ff"
      },
      "outputs": [
        {
          "output_type": "stream",
          "name": "stdout",
          "text": [
            "Collecting tflearn\n",
            "  Downloading tflearn-0.5.0.tar.gz (107 kB)\n",
            "\u001b[?25l     \u001b[90m━━━━━━━━━━━━━━━━━━━━━━━━━━━━━━━━━━━━━━━━\u001b[0m \u001b[32m0.0/107.3 kB\u001b[0m \u001b[31m?\u001b[0m eta \u001b[36m-:--:--\u001b[0m\r\u001b[2K     \u001b[90m━━━━━━━━━━━━━━━━━━━━━━━━━━━━━━━━━━━━━━━\u001b[0m \u001b[32m107.3/107.3 kB\u001b[0m \u001b[31m6.7 MB/s\u001b[0m eta \u001b[36m0:00:00\u001b[0m\n",
            "\u001b[?25h  Preparing metadata (setup.py) ... \u001b[?25l\u001b[?25hdone\n",
            "Requirement already satisfied: numpy in /usr/local/lib/python3.10/dist-packages (from tflearn) (1.22.4)\n",
            "Requirement already satisfied: six in /usr/local/lib/python3.10/dist-packages (from tflearn) (1.16.0)\n",
            "Requirement already satisfied: Pillow in /usr/local/lib/python3.10/dist-packages (from tflearn) (8.4.0)\n",
            "Building wheels for collected packages: tflearn\n",
            "  Building wheel for tflearn (setup.py) ... \u001b[?25l\u001b[?25hdone\n",
            "  Created wheel for tflearn: filename=tflearn-0.5.0-py3-none-any.whl size=127283 sha256=d8ac8d96712105cc915f92995b51d6b072001be9c4b416fb548c63a0f1a6cf24\n",
            "  Stored in directory: /root/.cache/pip/wheels/55/fb/7b/e06204a0ceefa45443930b9a250cb5ebe31def0e4e8245a465\n",
            "Successfully built tflearn\n",
            "Installing collected packages: tflearn\n",
            "Successfully installed tflearn-0.5.0\n"
          ]
        }
      ],
      "source": [
        "!pip install tflearn"
      ]
    },
    {
      "cell_type": "code",
      "source": [
        "from tflearn import DNN"
      ],
      "metadata": {
        "id": "9h08cOQz9Atb",
        "colab": {
          "base_uri": "https://localhost:8080/"
        },
        "outputId": "1396448b-8fb2-4da4-f2fc-706e268b4bb5"
      },
      "execution_count": 2,
      "outputs": [
        {
          "output_type": "stream",
          "name": "stderr",
          "text": [
            "WARNING:tensorflow:From /usr/local/lib/python3.10/dist-packages/tensorflow/python/compat/v2_compat.py:107: disable_resource_variables (from tensorflow.python.ops.variable_scope) is deprecated and will be removed in a future version.\n",
            "Instructions for updating:\n",
            "non-resource variables are not supported in the long term\n"
          ]
        }
      ]
    },
    {
      "cell_type": "code",
      "source": [
        "from tflearn.layers.core import input_data, fully_connected\n",
        "from tflearn.layers.estimator import regression"
      ],
      "metadata": {
        "id": "o7zcEI_P7V4e"
      },
      "execution_count": 3,
      "outputs": []
    },
    {
      "cell_type": "code",
      "source": [
        "\n",
        "x= [[0,0],[0,1],[1,0],[1,1]]\n",
        "y=[[0],[1],[1],[0]]"
      ],
      "metadata": {
        "id": "hovq-6oY8Hcs"
      },
      "execution_count": 4,
      "outputs": []
    },
    {
      "cell_type": "code",
      "source": [
        "#input layer of size 2\n",
        "input_layer= input_data(shape=[None,2])"
      ],
      "metadata": {
        "id": "9rv_sqVU9dUc"
      },
      "execution_count": 5,
      "outputs": []
    },
    {
      "cell_type": "code",
      "source": [
        "#hidden layer of size 2\n",
        "hidden_layer= fully_connected(input_layer, 2 ,activation='relu')"
      ],
      "metadata": {
        "colab": {
          "base_uri": "https://localhost:8080/"
        },
        "id": "QPT_Ylm4-Ar7",
        "outputId": "cd695613-fbe6-4b51-91eb-b60da659ee7c"
      },
      "execution_count": 6,
      "outputs": [
        {
          "output_type": "stream",
          "name": "stderr",
          "text": [
            "WARNING:tensorflow:From /usr/local/lib/python3.10/dist-packages/tflearn/initializations.py:164: calling TruncatedNormal.__init__ (from tensorflow.python.ops.init_ops) with dtype is deprecated and will be removed in a future version.\n",
            "Instructions for updating:\n",
            "Call initializer instance with the dtype argument instead of passing it to the constructor\n"
          ]
        }
      ]
    },
    {
      "cell_type": "code",
      "source": [
        "#output layer of size of 1\n",
        "output_layer= fully_connected(hidden_layer,1, activation='sigmoid')\n"
      ],
      "metadata": {
        "id": "2XlxpREt-i8b"
      },
      "execution_count": 7,
      "outputs": []
    },
    {
      "cell_type": "code",
      "source": [
        "#use stohastic gradient descent and binary crossentropy as loss function\n",
        "regression= regression(output_layer, optimizer='Adadelta',loss= 'categorical_crossentropy', learning_rate = 5)"
      ],
      "metadata": {
        "id": "k9pRxLIz_cPj"
      },
      "execution_count": 8,
      "outputs": []
    },
    {
      "cell_type": "code",
      "source": [
        "model=DNN(regression)"
      ],
      "metadata": {
        "id": "dol6A-ngAij8"
      },
      "execution_count": 9,
      "outputs": []
    },
    {
      "cell_type": "code",
      "source": [
        "#fit the model\n",
        "model.fit(x,y, n_epoch=5 ,show_metric=True)"
      ],
      "metadata": {
        "colab": {
          "base_uri": "https://localhost:8080/"
        },
        "id": "wd4BmKqFBPCL",
        "outputId": "650269d7-282b-406c-8d88-f925c3fe1b14"
      },
      "execution_count": 10,
      "outputs": [
        {
          "output_type": "stream",
          "name": "stdout",
          "text": [
            "---------------------------------\n",
            "Run id: LBA6RX\n",
            "Log directory: /tmp/tflearn_logs/\n",
            "---------------------------------\n",
            "Training samples: 4\n",
            "Validation samples: 0\n",
            "--\n",
            "Training Step: 1  | time: 0.411s\n",
            "| AdaDelta | epoch: 001 | loss: 0.00000 - binary_acc: 0.0000 -- iter: 4/4\n",
            "--\n",
            "Training Step: 2  | time: 0.006s\n",
            "| AdaDelta | epoch: 002 | loss: 0.00000 - binary_acc: 0.4500 -- iter: 4/4\n",
            "--\n",
            "Training Step: 3  | time: 0.005s\n",
            "| AdaDelta | epoch: 003 | loss: 0.00000 - binary_acc: 0.4909 -- iter: 4/4\n",
            "--\n",
            "Training Step: 4  | time: 0.005s\n",
            "| AdaDelta | epoch: 004 | loss: 0.00000 - binary_acc: 0.4977 -- iter: 4/4\n",
            "--\n",
            "Training Step: 5  | time: 0.003s\n",
            "| AdaDelta | epoch: 005 | loss: 0.00000 - binary_acc: 0.4993 -- iter: 4/4\n",
            "--\n"
          ]
        }
      ]
    },
    {
      "cell_type": "code",
      "source": [
        "#predict all examples\n",
        "print('Expected:',[i[0]>0 for i in y])\n",
        "print('Predicted:',[i[0]>0 for i in model.predict(x)])\n"
      ],
      "metadata": {
        "colab": {
          "base_uri": "https://localhost:8080/"
        },
        "id": "jCN6Eu7QCfTk",
        "outputId": "825adc4e-3953-4adb-a278-2c2cbe018942"
      },
      "execution_count": 11,
      "outputs": [
        {
          "output_type": "stream",
          "name": "stdout",
          "text": [
            "Expected: [False, True, True, False]\n",
            "Predicted: [True, True, True, True]\n"
          ]
        }
      ]
    },
    {
      "cell_type": "code",
      "source": [
        "print(\"hidden layer\",model.get_weights(hidden_layer.W), model.get_weights(hidden_layer.b))\n"
      ],
      "metadata": {
        "colab": {
          "base_uri": "https://localhost:8080/"
        },
        "id": "ptUiLx3wDNRi",
        "outputId": "4f86b159-974f-4d46-c9a0-ff01e7dca180"
      },
      "execution_count": 12,
      "outputs": [
        {
          "output_type": "stream",
          "name": "stdout",
          "text": [
            "hidden layer [[ 0.0040336   0.00041058]\n",
            " [-0.00760747  0.00161253]] [0. 0.]\n"
          ]
        }
      ]
    },
    {
      "cell_type": "code",
      "source": [
        "print(\"output layer\",model.get_weights(output_layer.W),model.get_weights(output_layer.b))"
      ],
      "metadata": {
        "colab": {
          "base_uri": "https://localhost:8080/"
        },
        "id": "qYZ_QwVYEh8C",
        "outputId": "40716743-d4e9-4465-ab0f-2d5f3f18e655"
      },
      "execution_count": 13,
      "outputs": [
        {
          "output_type": "stream",
          "name": "stdout",
          "text": [
            "output layer [[0.00394404]\n",
            " [0.01040153]] [0.]\n"
          ]
        }
      ]
    },
    {
      "cell_type": "code",
      "source": [],
      "metadata": {
        "id": "nta1hcDXhxh8"
      },
      "execution_count": null,
      "outputs": []
    }
  ]
}
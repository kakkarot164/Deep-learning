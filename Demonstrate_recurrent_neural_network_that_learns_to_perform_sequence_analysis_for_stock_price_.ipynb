{
  "nbformat": 4,
  "nbformat_minor": 0,
  "metadata": {
    "colab": {
      "provenance": []
    },
    "kernelspec": {
      "name": "python3",
      "display_name": "Python 3"
    },
    "language_info": {
      "name": "python"
    }
  },
  "cells": [
    {
      "cell_type": "markdown",
      "source": [
        "# **NEW**"
      ],
      "metadata": {
        "id": "P1yb6c7fjsTG"
      }
    },
    {
      "cell_type": "code",
      "source": [
        "import numpy as np\n",
        "import pandas as pd\n",
        "import matplotlib.pyplot as plt\n",
        "from pandas_datareader import data as pdr\n",
        "from datetime import datetime,date\n"
      ],
      "metadata": {
        "id": "A2rYcKnIjwGd"
      },
      "execution_count": 1,
      "outputs": []
    },
    {
      "cell_type": "code",
      "source": [
        "df = pd.read_csv(\"/content/SBIN_data.csv\")"
      ],
      "metadata": {
        "id": "S6lEyoNMj9CG"
      },
      "execution_count": 2,
      "outputs": []
    },
    {
      "cell_type": "code",
      "source": [
        "df.head()"
      ],
      "metadata": {
        "colab": {
          "base_uri": "https://localhost:8080/",
          "height": 206
        },
        "id": "OgYf22Tyk74G",
        "outputId": "a448529f-4db7-451d-8f62-46b3e8db05e6"
      },
      "execution_count": 3,
      "outputs": [
        {
          "output_type": "execute_result",
          "data": {
            "text/plain": [
              "        Date        Open        High         Low       Close   Adj Close  \\\n",
              "0  1/22/2020  317.000000  317.000000  313.700012  316.149994  308.444214   \n",
              "1  1/23/2020  316.000000  324.799988  314.149994  323.200012  315.322388   \n",
              "2  1/24/2020  323.500000  327.299988  321.149994  324.049988  316.151672   \n",
              "3  1/27/2020  320.899994  322.000000  315.799988  316.200012  308.493011   \n",
              "4  1/28/2020  317.950012  320.000000  311.049988  315.100006  307.419800   \n",
              "\n",
              "     Volume  \n",
              "0  24994911  \n",
              "1  33293610  \n",
              "2  22706879  \n",
              "3  23309355  \n",
              "4  26488426  "
            ],
            "text/html": [
              "\n",
              "  <div id=\"df-e582dc52-60ec-433c-8825-e5a67fe60d09\">\n",
              "    <div class=\"colab-df-container\">\n",
              "      <div>\n",
              "<style scoped>\n",
              "    .dataframe tbody tr th:only-of-type {\n",
              "        vertical-align: middle;\n",
              "    }\n",
              "\n",
              "    .dataframe tbody tr th {\n",
              "        vertical-align: top;\n",
              "    }\n",
              "\n",
              "    .dataframe thead th {\n",
              "        text-align: right;\n",
              "    }\n",
              "</style>\n",
              "<table border=\"1\" class=\"dataframe\">\n",
              "  <thead>\n",
              "    <tr style=\"text-align: right;\">\n",
              "      <th></th>\n",
              "      <th>Date</th>\n",
              "      <th>Open</th>\n",
              "      <th>High</th>\n",
              "      <th>Low</th>\n",
              "      <th>Close</th>\n",
              "      <th>Adj Close</th>\n",
              "      <th>Volume</th>\n",
              "    </tr>\n",
              "  </thead>\n",
              "  <tbody>\n",
              "    <tr>\n",
              "      <th>0</th>\n",
              "      <td>1/22/2020</td>\n",
              "      <td>317.000000</td>\n",
              "      <td>317.000000</td>\n",
              "      <td>313.700012</td>\n",
              "      <td>316.149994</td>\n",
              "      <td>308.444214</td>\n",
              "      <td>24994911</td>\n",
              "    </tr>\n",
              "    <tr>\n",
              "      <th>1</th>\n",
              "      <td>1/23/2020</td>\n",
              "      <td>316.000000</td>\n",
              "      <td>324.799988</td>\n",
              "      <td>314.149994</td>\n",
              "      <td>323.200012</td>\n",
              "      <td>315.322388</td>\n",
              "      <td>33293610</td>\n",
              "    </tr>\n",
              "    <tr>\n",
              "      <th>2</th>\n",
              "      <td>1/24/2020</td>\n",
              "      <td>323.500000</td>\n",
              "      <td>327.299988</td>\n",
              "      <td>321.149994</td>\n",
              "      <td>324.049988</td>\n",
              "      <td>316.151672</td>\n",
              "      <td>22706879</td>\n",
              "    </tr>\n",
              "    <tr>\n",
              "      <th>3</th>\n",
              "      <td>1/27/2020</td>\n",
              "      <td>320.899994</td>\n",
              "      <td>322.000000</td>\n",
              "      <td>315.799988</td>\n",
              "      <td>316.200012</td>\n",
              "      <td>308.493011</td>\n",
              "      <td>23309355</td>\n",
              "    </tr>\n",
              "    <tr>\n",
              "      <th>4</th>\n",
              "      <td>1/28/2020</td>\n",
              "      <td>317.950012</td>\n",
              "      <td>320.000000</td>\n",
              "      <td>311.049988</td>\n",
              "      <td>315.100006</td>\n",
              "      <td>307.419800</td>\n",
              "      <td>26488426</td>\n",
              "    </tr>\n",
              "  </tbody>\n",
              "</table>\n",
              "</div>\n",
              "      <button class=\"colab-df-convert\" onclick=\"convertToInteractive('df-e582dc52-60ec-433c-8825-e5a67fe60d09')\"\n",
              "              title=\"Convert this dataframe to an interactive table.\"\n",
              "              style=\"display:none;\">\n",
              "        \n",
              "  <svg xmlns=\"http://www.w3.org/2000/svg\" height=\"24px\"viewBox=\"0 0 24 24\"\n",
              "       width=\"24px\">\n",
              "    <path d=\"M0 0h24v24H0V0z\" fill=\"none\"/>\n",
              "    <path d=\"M18.56 5.44l.94 2.06.94-2.06 2.06-.94-2.06-.94-.94-2.06-.94 2.06-2.06.94zm-11 1L8.5 8.5l.94-2.06 2.06-.94-2.06-.94L8.5 2.5l-.94 2.06-2.06.94zm10 10l.94 2.06.94-2.06 2.06-.94-2.06-.94-.94-2.06-.94 2.06-2.06.94z\"/><path d=\"M17.41 7.96l-1.37-1.37c-.4-.4-.92-.59-1.43-.59-.52 0-1.04.2-1.43.59L10.3 9.45l-7.72 7.72c-.78.78-.78 2.05 0 2.83L4 21.41c.39.39.9.59 1.41.59.51 0 1.02-.2 1.41-.59l7.78-7.78 2.81-2.81c.8-.78.8-2.07 0-2.86zM5.41 20L4 18.59l7.72-7.72 1.47 1.35L5.41 20z\"/>\n",
              "  </svg>\n",
              "      </button>\n",
              "      \n",
              "  <style>\n",
              "    .colab-df-container {\n",
              "      display:flex;\n",
              "      flex-wrap:wrap;\n",
              "      gap: 12px;\n",
              "    }\n",
              "\n",
              "    .colab-df-convert {\n",
              "      background-color: #E8F0FE;\n",
              "      border: none;\n",
              "      border-radius: 50%;\n",
              "      cursor: pointer;\n",
              "      display: none;\n",
              "      fill: #1967D2;\n",
              "      height: 32px;\n",
              "      padding: 0 0 0 0;\n",
              "      width: 32px;\n",
              "    }\n",
              "\n",
              "    .colab-df-convert:hover {\n",
              "      background-color: #E2EBFA;\n",
              "      box-shadow: 0px 1px 2px rgba(60, 64, 67, 0.3), 0px 1px 3px 1px rgba(60, 64, 67, 0.15);\n",
              "      fill: #174EA6;\n",
              "    }\n",
              "\n",
              "    [theme=dark] .colab-df-convert {\n",
              "      background-color: #3B4455;\n",
              "      fill: #D2E3FC;\n",
              "    }\n",
              "\n",
              "    [theme=dark] .colab-df-convert:hover {\n",
              "      background-color: #434B5C;\n",
              "      box-shadow: 0px 1px 3px 1px rgba(0, 0, 0, 0.15);\n",
              "      filter: drop-shadow(0px 1px 2px rgba(0, 0, 0, 0.3));\n",
              "      fill: #FFFFFF;\n",
              "    }\n",
              "  </style>\n",
              "\n",
              "      <script>\n",
              "        const buttonEl =\n",
              "          document.querySelector('#df-e582dc52-60ec-433c-8825-e5a67fe60d09 button.colab-df-convert');\n",
              "        buttonEl.style.display =\n",
              "          google.colab.kernel.accessAllowed ? 'block' : 'none';\n",
              "\n",
              "        async function convertToInteractive(key) {\n",
              "          const element = document.querySelector('#df-e582dc52-60ec-433c-8825-e5a67fe60d09');\n",
              "          const dataTable =\n",
              "            await google.colab.kernel.invokeFunction('convertToInteractive',\n",
              "                                                     [key], {});\n",
              "          if (!dataTable) return;\n",
              "\n",
              "          const docLinkHtml = 'Like what you see? Visit the ' +\n",
              "            '<a target=\"_blank\" href=https://colab.research.google.com/notebooks/data_table.ipynb>data table notebook</a>'\n",
              "            + ' to learn more about interactive tables.';\n",
              "          element.innerHTML = '';\n",
              "          dataTable['output_type'] = 'display_data';\n",
              "          await google.colab.output.renderOutput(dataTable, element);\n",
              "          const docLink = document.createElement('div');\n",
              "          docLink.innerHTML = docLinkHtml;\n",
              "          element.appendChild(docLink);\n",
              "        }\n",
              "      </script>\n",
              "    </div>\n",
              "  </div>\n",
              "  "
            ]
          },
          "metadata": {},
          "execution_count": 3
        }
      ]
    },
    {
      "cell_type": "code",
      "source": [
        "df = df.reset_index()\n",
        "df.head()"
      ],
      "metadata": {
        "colab": {
          "base_uri": "https://localhost:8080/",
          "height": 206
        },
        "id": "8t_EDNmlqNkK",
        "outputId": "bc31f3a4-e29f-494a-9049-dea9f6b5ff7a"
      },
      "execution_count": 4,
      "outputs": [
        {
          "output_type": "execute_result",
          "data": {
            "text/plain": [
              "   index       Date        Open        High         Low       Close  \\\n",
              "0      0  1/22/2020  317.000000  317.000000  313.700012  316.149994   \n",
              "1      1  1/23/2020  316.000000  324.799988  314.149994  323.200012   \n",
              "2      2  1/24/2020  323.500000  327.299988  321.149994  324.049988   \n",
              "3      3  1/27/2020  320.899994  322.000000  315.799988  316.200012   \n",
              "4      4  1/28/2020  317.950012  320.000000  311.049988  315.100006   \n",
              "\n",
              "    Adj Close    Volume  \n",
              "0  308.444214  24994911  \n",
              "1  315.322388  33293610  \n",
              "2  316.151672  22706879  \n",
              "3  308.493011  23309355  \n",
              "4  307.419800  26488426  "
            ],
            "text/html": [
              "\n",
              "  <div id=\"df-b1a02516-4cd8-4c50-a10e-614215b6cdba\">\n",
              "    <div class=\"colab-df-container\">\n",
              "      <div>\n",
              "<style scoped>\n",
              "    .dataframe tbody tr th:only-of-type {\n",
              "        vertical-align: middle;\n",
              "    }\n",
              "\n",
              "    .dataframe tbody tr th {\n",
              "        vertical-align: top;\n",
              "    }\n",
              "\n",
              "    .dataframe thead th {\n",
              "        text-align: right;\n",
              "    }\n",
              "</style>\n",
              "<table border=\"1\" class=\"dataframe\">\n",
              "  <thead>\n",
              "    <tr style=\"text-align: right;\">\n",
              "      <th></th>\n",
              "      <th>index</th>\n",
              "      <th>Date</th>\n",
              "      <th>Open</th>\n",
              "      <th>High</th>\n",
              "      <th>Low</th>\n",
              "      <th>Close</th>\n",
              "      <th>Adj Close</th>\n",
              "      <th>Volume</th>\n",
              "    </tr>\n",
              "  </thead>\n",
              "  <tbody>\n",
              "    <tr>\n",
              "      <th>0</th>\n",
              "      <td>0</td>\n",
              "      <td>1/22/2020</td>\n",
              "      <td>317.000000</td>\n",
              "      <td>317.000000</td>\n",
              "      <td>313.700012</td>\n",
              "      <td>316.149994</td>\n",
              "      <td>308.444214</td>\n",
              "      <td>24994911</td>\n",
              "    </tr>\n",
              "    <tr>\n",
              "      <th>1</th>\n",
              "      <td>1</td>\n",
              "      <td>1/23/2020</td>\n",
              "      <td>316.000000</td>\n",
              "      <td>324.799988</td>\n",
              "      <td>314.149994</td>\n",
              "      <td>323.200012</td>\n",
              "      <td>315.322388</td>\n",
              "      <td>33293610</td>\n",
              "    </tr>\n",
              "    <tr>\n",
              "      <th>2</th>\n",
              "      <td>2</td>\n",
              "      <td>1/24/2020</td>\n",
              "      <td>323.500000</td>\n",
              "      <td>327.299988</td>\n",
              "      <td>321.149994</td>\n",
              "      <td>324.049988</td>\n",
              "      <td>316.151672</td>\n",
              "      <td>22706879</td>\n",
              "    </tr>\n",
              "    <tr>\n",
              "      <th>3</th>\n",
              "      <td>3</td>\n",
              "      <td>1/27/2020</td>\n",
              "      <td>320.899994</td>\n",
              "      <td>322.000000</td>\n",
              "      <td>315.799988</td>\n",
              "      <td>316.200012</td>\n",
              "      <td>308.493011</td>\n",
              "      <td>23309355</td>\n",
              "    </tr>\n",
              "    <tr>\n",
              "      <th>4</th>\n",
              "      <td>4</td>\n",
              "      <td>1/28/2020</td>\n",
              "      <td>317.950012</td>\n",
              "      <td>320.000000</td>\n",
              "      <td>311.049988</td>\n",
              "      <td>315.100006</td>\n",
              "      <td>307.419800</td>\n",
              "      <td>26488426</td>\n",
              "    </tr>\n",
              "  </tbody>\n",
              "</table>\n",
              "</div>\n",
              "      <button class=\"colab-df-convert\" onclick=\"convertToInteractive('df-b1a02516-4cd8-4c50-a10e-614215b6cdba')\"\n",
              "              title=\"Convert this dataframe to an interactive table.\"\n",
              "              style=\"display:none;\">\n",
              "        \n",
              "  <svg xmlns=\"http://www.w3.org/2000/svg\" height=\"24px\"viewBox=\"0 0 24 24\"\n",
              "       width=\"24px\">\n",
              "    <path d=\"M0 0h24v24H0V0z\" fill=\"none\"/>\n",
              "    <path d=\"M18.56 5.44l.94 2.06.94-2.06 2.06-.94-2.06-.94-.94-2.06-.94 2.06-2.06.94zm-11 1L8.5 8.5l.94-2.06 2.06-.94-2.06-.94L8.5 2.5l-.94 2.06-2.06.94zm10 10l.94 2.06.94-2.06 2.06-.94-2.06-.94-.94-2.06-.94 2.06-2.06.94z\"/><path d=\"M17.41 7.96l-1.37-1.37c-.4-.4-.92-.59-1.43-.59-.52 0-1.04.2-1.43.59L10.3 9.45l-7.72 7.72c-.78.78-.78 2.05 0 2.83L4 21.41c.39.39.9.59 1.41.59.51 0 1.02-.2 1.41-.59l7.78-7.78 2.81-2.81c.8-.78.8-2.07 0-2.86zM5.41 20L4 18.59l7.72-7.72 1.47 1.35L5.41 20z\"/>\n",
              "  </svg>\n",
              "      </button>\n",
              "      \n",
              "  <style>\n",
              "    .colab-df-container {\n",
              "      display:flex;\n",
              "      flex-wrap:wrap;\n",
              "      gap: 12px;\n",
              "    }\n",
              "\n",
              "    .colab-df-convert {\n",
              "      background-color: #E8F0FE;\n",
              "      border: none;\n",
              "      border-radius: 50%;\n",
              "      cursor: pointer;\n",
              "      display: none;\n",
              "      fill: #1967D2;\n",
              "      height: 32px;\n",
              "      padding: 0 0 0 0;\n",
              "      width: 32px;\n",
              "    }\n",
              "\n",
              "    .colab-df-convert:hover {\n",
              "      background-color: #E2EBFA;\n",
              "      box-shadow: 0px 1px 2px rgba(60, 64, 67, 0.3), 0px 1px 3px 1px rgba(60, 64, 67, 0.15);\n",
              "      fill: #174EA6;\n",
              "    }\n",
              "\n",
              "    [theme=dark] .colab-df-convert {\n",
              "      background-color: #3B4455;\n",
              "      fill: #D2E3FC;\n",
              "    }\n",
              "\n",
              "    [theme=dark] .colab-df-convert:hover {\n",
              "      background-color: #434B5C;\n",
              "      box-shadow: 0px 1px 3px 1px rgba(0, 0, 0, 0.15);\n",
              "      filter: drop-shadow(0px 1px 2px rgba(0, 0, 0, 0.3));\n",
              "      fill: #FFFFFF;\n",
              "    }\n",
              "  </style>\n",
              "\n",
              "      <script>\n",
              "        const buttonEl =\n",
              "          document.querySelector('#df-b1a02516-4cd8-4c50-a10e-614215b6cdba button.colab-df-convert');\n",
              "        buttonEl.style.display =\n",
              "          google.colab.kernel.accessAllowed ? 'block' : 'none';\n",
              "\n",
              "        async function convertToInteractive(key) {\n",
              "          const element = document.querySelector('#df-b1a02516-4cd8-4c50-a10e-614215b6cdba');\n",
              "          const dataTable =\n",
              "            await google.colab.kernel.invokeFunction('convertToInteractive',\n",
              "                                                     [key], {});\n",
              "          if (!dataTable) return;\n",
              "\n",
              "          const docLinkHtml = 'Like what you see? Visit the ' +\n",
              "            '<a target=\"_blank\" href=https://colab.research.google.com/notebooks/data_table.ipynb>data table notebook</a>'\n",
              "            + ' to learn more about interactive tables.';\n",
              "          element.innerHTML = '';\n",
              "          dataTable['output_type'] = 'display_data';\n",
              "          await google.colab.output.renderOutput(dataTable, element);\n",
              "          const docLink = document.createElement('div');\n",
              "          docLink.innerHTML = docLinkHtml;\n",
              "          element.appendChild(docLink);\n",
              "        }\n",
              "      </script>\n",
              "    </div>\n",
              "  </div>\n",
              "  "
            ]
          },
          "metadata": {},
          "execution_count": 4
        }
      ]
    },
    {
      "cell_type": "code",
      "source": [
        "df =df.drop(['Date','Adj Close'], axis = 1)\n",
        "df.head()"
      ],
      "metadata": {
        "colab": {
          "base_uri": "https://localhost:8080/",
          "height": 206
        },
        "id": "rJIVnlHKlI-t",
        "outputId": "f6b7cfaf-d3e4-487c-8cf1-7e4fb536c5b8"
      },
      "execution_count": 5,
      "outputs": [
        {
          "output_type": "execute_result",
          "data": {
            "text/plain": [
              "   index        Open        High         Low       Close    Volume\n",
              "0      0  317.000000  317.000000  313.700012  316.149994  24994911\n",
              "1      1  316.000000  324.799988  314.149994  323.200012  33293610\n",
              "2      2  323.500000  327.299988  321.149994  324.049988  22706879\n",
              "3      3  320.899994  322.000000  315.799988  316.200012  23309355\n",
              "4      4  317.950012  320.000000  311.049988  315.100006  26488426"
            ],
            "text/html": [
              "\n",
              "  <div id=\"df-62f0d645-9d58-48cd-a38f-3e85c84013f2\">\n",
              "    <div class=\"colab-df-container\">\n",
              "      <div>\n",
              "<style scoped>\n",
              "    .dataframe tbody tr th:only-of-type {\n",
              "        vertical-align: middle;\n",
              "    }\n",
              "\n",
              "    .dataframe tbody tr th {\n",
              "        vertical-align: top;\n",
              "    }\n",
              "\n",
              "    .dataframe thead th {\n",
              "        text-align: right;\n",
              "    }\n",
              "</style>\n",
              "<table border=\"1\" class=\"dataframe\">\n",
              "  <thead>\n",
              "    <tr style=\"text-align: right;\">\n",
              "      <th></th>\n",
              "      <th>index</th>\n",
              "      <th>Open</th>\n",
              "      <th>High</th>\n",
              "      <th>Low</th>\n",
              "      <th>Close</th>\n",
              "      <th>Volume</th>\n",
              "    </tr>\n",
              "  </thead>\n",
              "  <tbody>\n",
              "    <tr>\n",
              "      <th>0</th>\n",
              "      <td>0</td>\n",
              "      <td>317.000000</td>\n",
              "      <td>317.000000</td>\n",
              "      <td>313.700012</td>\n",
              "      <td>316.149994</td>\n",
              "      <td>24994911</td>\n",
              "    </tr>\n",
              "    <tr>\n",
              "      <th>1</th>\n",
              "      <td>1</td>\n",
              "      <td>316.000000</td>\n",
              "      <td>324.799988</td>\n",
              "      <td>314.149994</td>\n",
              "      <td>323.200012</td>\n",
              "      <td>33293610</td>\n",
              "    </tr>\n",
              "    <tr>\n",
              "      <th>2</th>\n",
              "      <td>2</td>\n",
              "      <td>323.500000</td>\n",
              "      <td>327.299988</td>\n",
              "      <td>321.149994</td>\n",
              "      <td>324.049988</td>\n",
              "      <td>22706879</td>\n",
              "    </tr>\n",
              "    <tr>\n",
              "      <th>3</th>\n",
              "      <td>3</td>\n",
              "      <td>320.899994</td>\n",
              "      <td>322.000000</td>\n",
              "      <td>315.799988</td>\n",
              "      <td>316.200012</td>\n",
              "      <td>23309355</td>\n",
              "    </tr>\n",
              "    <tr>\n",
              "      <th>4</th>\n",
              "      <td>4</td>\n",
              "      <td>317.950012</td>\n",
              "      <td>320.000000</td>\n",
              "      <td>311.049988</td>\n",
              "      <td>315.100006</td>\n",
              "      <td>26488426</td>\n",
              "    </tr>\n",
              "  </tbody>\n",
              "</table>\n",
              "</div>\n",
              "      <button class=\"colab-df-convert\" onclick=\"convertToInteractive('df-62f0d645-9d58-48cd-a38f-3e85c84013f2')\"\n",
              "              title=\"Convert this dataframe to an interactive table.\"\n",
              "              style=\"display:none;\">\n",
              "        \n",
              "  <svg xmlns=\"http://www.w3.org/2000/svg\" height=\"24px\"viewBox=\"0 0 24 24\"\n",
              "       width=\"24px\">\n",
              "    <path d=\"M0 0h24v24H0V0z\" fill=\"none\"/>\n",
              "    <path d=\"M18.56 5.44l.94 2.06.94-2.06 2.06-.94-2.06-.94-.94-2.06-.94 2.06-2.06.94zm-11 1L8.5 8.5l.94-2.06 2.06-.94-2.06-.94L8.5 2.5l-.94 2.06-2.06.94zm10 10l.94 2.06.94-2.06 2.06-.94-2.06-.94-.94-2.06-.94 2.06-2.06.94z\"/><path d=\"M17.41 7.96l-1.37-1.37c-.4-.4-.92-.59-1.43-.59-.52 0-1.04.2-1.43.59L10.3 9.45l-7.72 7.72c-.78.78-.78 2.05 0 2.83L4 21.41c.39.39.9.59 1.41.59.51 0 1.02-.2 1.41-.59l7.78-7.78 2.81-2.81c.8-.78.8-2.07 0-2.86zM5.41 20L4 18.59l7.72-7.72 1.47 1.35L5.41 20z\"/>\n",
              "  </svg>\n",
              "      </button>\n",
              "      \n",
              "  <style>\n",
              "    .colab-df-container {\n",
              "      display:flex;\n",
              "      flex-wrap:wrap;\n",
              "      gap: 12px;\n",
              "    }\n",
              "\n",
              "    .colab-df-convert {\n",
              "      background-color: #E8F0FE;\n",
              "      border: none;\n",
              "      border-radius: 50%;\n",
              "      cursor: pointer;\n",
              "      display: none;\n",
              "      fill: #1967D2;\n",
              "      height: 32px;\n",
              "      padding: 0 0 0 0;\n",
              "      width: 32px;\n",
              "    }\n",
              "\n",
              "    .colab-df-convert:hover {\n",
              "      background-color: #E2EBFA;\n",
              "      box-shadow: 0px 1px 2px rgba(60, 64, 67, 0.3), 0px 1px 3px 1px rgba(60, 64, 67, 0.15);\n",
              "      fill: #174EA6;\n",
              "    }\n",
              "\n",
              "    [theme=dark] .colab-df-convert {\n",
              "      background-color: #3B4455;\n",
              "      fill: #D2E3FC;\n",
              "    }\n",
              "\n",
              "    [theme=dark] .colab-df-convert:hover {\n",
              "      background-color: #434B5C;\n",
              "      box-shadow: 0px 1px 3px 1px rgba(0, 0, 0, 0.15);\n",
              "      filter: drop-shadow(0px 1px 2px rgba(0, 0, 0, 0.3));\n",
              "      fill: #FFFFFF;\n",
              "    }\n",
              "  </style>\n",
              "\n",
              "      <script>\n",
              "        const buttonEl =\n",
              "          document.querySelector('#df-62f0d645-9d58-48cd-a38f-3e85c84013f2 button.colab-df-convert');\n",
              "        buttonEl.style.display =\n",
              "          google.colab.kernel.accessAllowed ? 'block' : 'none';\n",
              "\n",
              "        async function convertToInteractive(key) {\n",
              "          const element = document.querySelector('#df-62f0d645-9d58-48cd-a38f-3e85c84013f2');\n",
              "          const dataTable =\n",
              "            await google.colab.kernel.invokeFunction('convertToInteractive',\n",
              "                                                     [key], {});\n",
              "          if (!dataTable) return;\n",
              "\n",
              "          const docLinkHtml = 'Like what you see? Visit the ' +\n",
              "            '<a target=\"_blank\" href=https://colab.research.google.com/notebooks/data_table.ipynb>data table notebook</a>'\n",
              "            + ' to learn more about interactive tables.';\n",
              "          element.innerHTML = '';\n",
              "          dataTable['output_type'] = 'display_data';\n",
              "          await google.colab.output.renderOutput(dataTable, element);\n",
              "          const docLink = document.createElement('div');\n",
              "          docLink.innerHTML = docLinkHtml;\n",
              "          element.appendChild(docLink);\n",
              "        }\n",
              "      </script>\n",
              "    </div>\n",
              "  </div>\n",
              "  "
            ]
          },
          "metadata": {},
          "execution_count": 5
        }
      ]
    },
    {
      "cell_type": "code",
      "source": [
        "data_training = pd.DataFrame(df['Close'][0:int(len(df)*0.70)])\n",
        "data_testing = pd.DataFrame(df['Close'][int(len(df)*0.70):int(len(df))])\n",
        "print(data_training.shape)\n",
        "print(data_testing)"
      ],
      "metadata": {
        "colab": {
          "base_uri": "https://localhost:8080/"
        },
        "id": "7fC8lTEYlQjs",
        "outputId": "35c57644-13d4-41f4-cc87-e1a2a373e903"
      },
      "execution_count": 6,
      "outputs": [
        {
          "output_type": "stream",
          "name": "stdout",
          "text": [
            "(333, 1)\n",
            "          Close\n",
            "333  425.200012\n",
            "334  422.049988\n",
            "335  424.350006\n",
            "336  432.549988\n",
            "337  437.250000\n",
            "..          ...\n",
            "471  484.799988\n",
            "472  481.149994\n",
            "473  467.799988\n",
            "474  449.200012\n",
            "475  446.000000\n",
            "\n",
            "[143 rows x 1 columns]\n"
          ]
        }
      ]
    },
    {
      "cell_type": "code",
      "source": [
        "from sklearn.preprocessing import MinMaxScaler\n",
        "scaler = MinMaxScaler(feature_range=(0,1))"
      ],
      "metadata": {
        "id": "P9rYtlQuj_Fu"
      },
      "execution_count": 7,
      "outputs": []
    },
    {
      "cell_type": "code",
      "source": [
        "data_training_array = scaler.fit_transform(data_training)\n",
        "data_training_array"
      ],
      "metadata": {
        "colab": {
          "base_uri": "https://localhost:8080/"
        },
        "id": "UKcpG9-ilX2k",
        "outputId": "1e56b073-880d-43c6-a573-c15b20e89aa9"
      },
      "execution_count": 8,
      "outputs": [
        {
          "output_type": "execute_result",
          "data": {
            "text/plain": [
              "array([[0.6253073 ],\n",
              "       [0.65197655],\n",
              "       [0.6551919 ],\n",
              "       [0.62549651],\n",
              "       [0.62133534],\n",
              "       [0.62644223],\n",
              "       [0.60469076],\n",
              "       [0.63400795],\n",
              "       [0.55702666],\n",
              "       [0.58785697],\n",
              "       [0.60582557],\n",
              "       [0.64724797],\n",
              "       [0.64195187],\n",
              "       [0.63419705],\n",
              "       [0.65632682],\n",
              "       [0.64062796],\n",
              "       [0.66805372],\n",
              "       [0.6376016 ],\n",
              "       [0.61793078],\n",
              "       [0.63060328],\n",
              "       [0.64119537],\n",
              "       [0.66881023],\n",
              "       [0.65103084],\n",
              "       [0.66559477],\n",
              "       [0.67089087],\n",
              "       [0.64724797],\n",
              "       [0.57556267],\n",
              "       [0.51654997],\n",
              "       [0.52581803],\n",
              "       [0.50860594],\n",
              "       [0.52071114],\n",
              "       [0.4526196 ],\n",
              "       [0.38812177],\n",
              "       [0.35653489],\n",
              "       [0.23359182],\n",
              "       [0.34480799],\n",
              "       [0.27425761],\n",
              "       [0.24323808],\n",
              "       [0.24342723],\n",
              "       [0.19973515],\n",
              "       [0.22318895],\n",
              "       [0.11632305],\n",
              "       [0.1223756 ],\n",
              "       [0.14772078],\n",
              "       [0.15850196],\n",
              "       [0.17060711],\n",
              "       [0.13637219],\n",
              "       [0.17401172],\n",
              "       [0.13504822],\n",
              "       [0.09324756],\n",
              "       [0.13448075],\n",
              "       [0.12161904],\n",
              "       [0.13958764],\n",
              "       [0.12351047],\n",
              "       [0.1191602 ],\n",
              "       [0.14242479],\n",
              "       [0.16039339],\n",
              "       [0.15755624],\n",
              "       [0.12823905],\n",
              "       [0.14318135],\n",
              "       [0.13561562],\n",
              "       [0.10932473],\n",
              "       [0.113675  ],\n",
              "       [0.12653677],\n",
              "       [0.14847739],\n",
              "       [0.14999052],\n",
              "       [0.10592018],\n",
              "       [0.07395494],\n",
              "       [0.07660299],\n",
              "       [0.07527896],\n",
              "       [0.0597692 ],\n",
              "       [0.05522977],\n",
              "       [0.06071491],\n",
              "       [0.08795158],\n",
              "       [0.06468693],\n",
              "       [0.05882348],\n",
              "       [0.01683373],\n",
              "       [0.00737657],\n",
              "       [0.00964626],\n",
              "       [0.00416112],\n",
              "       [0.        ],\n",
              "       [0.00208053],\n",
              "       [0.02931719],\n",
              "       [0.02780401],\n",
              "       [0.03953091],\n",
              "       [0.07263097],\n",
              "       [0.07338753],\n",
              "       [0.09097782],\n",
              "       [0.08776242],\n",
              "       [0.1397768 ],\n",
              "       [0.13599393],\n",
              "       [0.12710418],\n",
              "       [0.13939849],\n",
              "       [0.09948927],\n",
              "       [0.10705499],\n",
              "       [0.0864384 ],\n",
              "       [0.0834121 ],\n",
              "       [0.08360125],\n",
              "       [0.10894642],\n",
              "       [0.12729334],\n",
              "       [0.13939849],\n",
              "       [0.15736709],\n",
              "       [0.12767164],\n",
              "       [0.13013048],\n",
              "       [0.12767164],\n",
              "       [0.1074333 ],\n",
              "       [0.104407  ],\n",
              "       [0.12842821],\n",
              "       [0.13088704],\n",
              "       [0.1280499 ],\n",
              "       [0.14072251],\n",
              "       [0.1428031 ],\n",
              "       [0.1552865 ],\n",
              "       [0.18252317],\n",
              "       [0.16928314],\n",
              "       [0.15831281],\n",
              "       [0.13315679],\n",
              "       [0.12464534],\n",
              "       [0.13391335],\n",
              "       [0.14128992],\n",
              "       [0.15093623],\n",
              "       [0.16474366],\n",
              "       [0.15566481],\n",
              "       [0.17930771],\n",
              "       [0.15547566],\n",
              "       [0.1373179 ],\n",
              "       [0.1460185 ],\n",
              "       [0.15263851],\n",
              "       [0.13504822],\n",
              "       [0.15358423],\n",
              "       [0.15661053],\n",
              "       [0.15415169],\n",
              "       [0.15358423],\n",
              "       [0.15169279],\n",
              "       [0.15055792],\n",
              "       [0.16247398],\n",
              "       [0.16720256],\n",
              "       [0.19841118],\n",
              "       [0.19311514],\n",
              "       [0.1726877 ],\n",
              "       [0.15982598],\n",
              "       [0.16739171],\n",
              "       [0.17476828],\n",
              "       [0.16606769],\n",
              "       [0.17987512],\n",
              "       [0.19141286],\n",
              "       [0.21600147],\n",
              "       [0.22318895],\n",
              "       [0.24512951],\n",
              "       [0.2799319 ],\n",
              "       [0.23132208],\n",
              "       [0.25439757],\n",
              "       [0.24739925],\n",
              "       [0.23567235],\n",
              "       [0.21089464],\n",
              "       [0.21581232],\n",
              "       [0.20124833],\n",
              "       [0.166446  ],\n",
              "       [0.1789294 ],\n",
              "       [0.19614144],\n",
              "       [0.18025343],\n",
              "       [0.18649513],\n",
              "       [0.17911855],\n",
              "       [0.16871568],\n",
              "       [0.15793455],\n",
              "       [0.13221107],\n",
              "       [0.13372419],\n",
              "       [0.12464534],\n",
              "       [0.09646302],\n",
              "       [0.11859274],\n",
              "       [0.13769621],\n",
              "       [0.12937392],\n",
              "       [0.13069789],\n",
              "       [0.14923396],\n",
              "       [0.14337051],\n",
              "       [0.15415169],\n",
              "       [0.15074708],\n",
              "       [0.15377338],\n",
              "       [0.17949686],\n",
              "       [0.18100999],\n",
              "       [0.1696614 ],\n",
              "       [0.18611687],\n",
              "       [0.15888027],\n",
              "       [0.17060711],\n",
              "       [0.20105917],\n",
              "       [0.19746547],\n",
              "       [0.20011346],\n",
              "       [0.19841118],\n",
              "       [0.19651975],\n",
              "       [0.17344426],\n",
              "       [0.16568938],\n",
              "       [0.14980136],\n",
              "       [0.14318135],\n",
              "       [0.14526194],\n",
              "       [0.17098542],\n",
              "       [0.20389632],\n",
              "       [0.21240777],\n",
              "       [0.2564781 ],\n",
              "       [0.25855869],\n",
              "       [0.25969356],\n",
              "       [0.30584448],\n",
              "       [0.31530164],\n",
              "       [0.28730847],\n",
              "       [0.29733304],\n",
              "       [0.2980896 ],\n",
              "       [0.33799882],\n",
              "       [0.38263662],\n",
              "       [0.33629655],\n",
              "       [0.34764514],\n",
              "       [0.33232453],\n",
              "       [0.35180631],\n",
              "       [0.34859085],\n",
              "       [0.35785886],\n",
              "       [0.35331943],\n",
              "       [0.36769432],\n",
              "       [0.36353315],\n",
              "       [0.39890289],\n",
              "       [0.42613956],\n",
              "       [0.44921505],\n",
              "       [0.45791559],\n",
              "       [0.45205219],\n",
              "       [0.44902583],\n",
              "       [0.45999623],\n",
              "       [0.46661624],\n",
              "       [0.45318701],\n",
              "       [0.44845843],\n",
              "       [0.44202763],\n",
              "       [0.45621337],\n",
              "       [0.39285034],\n",
              "       [0.40325328],\n",
              "       [0.42424812],\n",
              "       [0.43881217],\n",
              "       [0.4703991 ],\n",
              "       [0.48061277],\n",
              "       [0.4768299 ],\n",
              "       [0.46945339],\n",
              "       [0.48628706],\n",
              "       [0.49252877],\n",
              "       [0.49517681],\n",
              "       [0.50766022],\n",
              "       [0.5176849 ],\n",
              "       [0.51125398],\n",
              "       [0.49801396],\n",
              "       [0.5358426 ],\n",
              "       [0.5899375 ],\n",
              "       [0.59163984],\n",
              "       [0.57877812],\n",
              "       [0.54321923],\n",
              "       [0.55891809],\n",
              "       [0.57386033],\n",
              "       [0.54473235],\n",
              "       [0.50255344],\n",
              "       [0.49215057],\n",
              "       [0.47210132],\n",
              "       [0.49744656],\n",
              "       [0.49650084],\n",
              "       [0.60469076],\n",
              "       [0.68942688],\n",
              "       [0.70020806],\n",
              "       [0.77264988],\n",
              "       [0.91639869],\n",
              "       [0.93134094],\n",
              "       [0.92282949],\n",
              "       [0.91318324],\n",
              "       [0.9052392 ],\n",
              "       [0.91658779],\n",
              "       [0.96879138],\n",
              "       [0.95139018],\n",
              "       [0.98694908],\n",
              "       [1.        ],\n",
              "       [0.94079809],\n",
              "       [0.90278036],\n",
              "       [0.92585585],\n",
              "       [0.96614333],\n",
              "       [0.96992619],\n",
              "       [0.9052392 ],\n",
              "       [0.92339701],\n",
              "       [0.92055987],\n",
              "       [0.96160384],\n",
              "       [0.92604495],\n",
              "       [0.88065059],\n",
              "       [0.90315867],\n",
              "       [0.89559294],\n",
              "       [0.89597125],\n",
              "       [0.87100433],\n",
              "       [0.8815963 ],\n",
              "       [0.86135796],\n",
              "       [0.8220162 ],\n",
              "       [0.81804424],\n",
              "       [0.83336479],\n",
              "       [0.81766593],\n",
              "       [0.8392283 ],\n",
              "       [0.79061848],\n",
              "       [0.77302819],\n",
              "       [0.78059391],\n",
              "       [0.79421213],\n",
              "       [0.80745215],\n",
              "       [0.83147336],\n",
              "       [0.76678637],\n",
              "       [0.75543778],\n",
              "       [0.78570069],\n",
              "       [0.77454131],\n",
              "       [0.76470584],\n",
              "       [0.67334971],\n",
              "       [0.71931148],\n",
              "       [0.72574239],\n",
              "       [0.71515031],\n",
              "       [0.68205025],\n",
              "       [0.67580855],\n",
              "       [0.702856  ],\n",
              "       [0.7020995 ],\n",
              "       [0.73179488],\n",
              "       [0.76489494],\n",
              "       [0.8040476 ],\n",
              "       [0.78891615],\n",
              "       [0.76659727],\n",
              "       [0.75562699],\n",
              "       [0.75903155],\n",
              "       [0.77378469],\n",
              "       [0.7743521 ],\n",
              "       [0.78456588],\n",
              "       [0.7976168 ],\n",
              "       [0.80877618],\n",
              "       [0.82031398],\n",
              "       [0.79288822],\n",
              "       [0.87857006],\n",
              "       [0.8753546 ],\n",
              "       [0.88348773],\n",
              "       [0.88405514],\n",
              "       [0.94703991],\n",
              "       [0.98808389],\n",
              "       [0.98921882],\n",
              "       [0.99375818]])"
            ]
          },
          "metadata": {},
          "execution_count": 8
        }
      ]
    },
    {
      "cell_type": "code",
      "source": [
        "data_training_array.shape"
      ],
      "metadata": {
        "colab": {
          "base_uri": "https://localhost:8080/"
        },
        "id": "BtUL8CCHqi7i",
        "outputId": "f0235233-177a-496b-e26a-b3bba5773e35"
      },
      "execution_count": 9,
      "outputs": [
        {
          "output_type": "execute_result",
          "data": {
            "text/plain": [
              "(333, 1)"
            ]
          },
          "metadata": {},
          "execution_count": 9
        }
      ]
    },
    {
      "cell_type": "code",
      "source": [
        "x_train = []\n",
        "y_train = []\n",
        "for i in range(100,data_training.shape[0]):\n",
        "    x_train.append(data_training_array[i-100: i])\n",
        "    y_train.append(data_training_array[i, 0])\n",
        "x_train, y_train = np.array(x_train), np.array(y_train)"
      ],
      "metadata": {
        "id": "eXMOjLQila98"
      },
      "execution_count": 10,
      "outputs": []
    },
    {
      "cell_type": "code",
      "source": [
        "x_train.shape"
      ],
      "metadata": {
        "colab": {
          "base_uri": "https://localhost:8080/"
        },
        "id": "5MWxB60nqvdp",
        "outputId": "8a6dc118-b401-4397-d12d-05b9f685df21"
      },
      "execution_count": 11,
      "outputs": [
        {
          "output_type": "execute_result",
          "data": {
            "text/plain": [
              "(233, 100, 1)"
            ]
          },
          "metadata": {},
          "execution_count": 11
        }
      ]
    },
    {
      "cell_type": "code",
      "source": [
        "from keras.layers import Dense, Dropout , LSTM\n",
        "from keras.models import Sequential"
      ],
      "metadata": {
        "id": "KNyGllAzless"
      },
      "execution_count": 12,
      "outputs": []
    },
    {
      "cell_type": "code",
      "source": [
        "#1\n",
        "model = Sequential()\n",
        "model.add(LSTM(units = 50, activation = 'relu', return_sequences = True,input_shape = (x_train.shape[1], 1)))\n",
        "model.add(Dropout(0.2))\n",
        "#2\n",
        "model.add(LSTM(units = 60, activation = 'relu', return_sequences = True,))\n",
        "model.add(Dropout(0.3))\n",
        "#3\n",
        "model.add(LSTM(units = 80, activation = 'relu', return_sequences = True, ))\n",
        "model.add(Dropout(0.4))\n",
        "#4\n",
        "model.add(LSTM(units = 120, activation = 'relu' ))\n",
        "model.add(Dropout(0.5))\n",
        "\n",
        "#dense layer\n",
        "model.add(Dense(units = 1))"
      ],
      "metadata": {
        "id": "oOg94fHNlkk0"
      },
      "execution_count": 13,
      "outputs": []
    },
    {
      "cell_type": "code",
      "source": [
        "model.summary()"
      ],
      "metadata": {
        "id": "rSu7n5qsrXc3",
        "colab": {
          "base_uri": "https://localhost:8080/"
        },
        "outputId": "2abed83f-b280-4dba-d6d4-3b08e9c6eb4f"
      },
      "execution_count": 14,
      "outputs": [
        {
          "output_type": "stream",
          "name": "stdout",
          "text": [
            "Model: \"sequential\"\n",
            "_________________________________________________________________\n",
            " Layer (type)                Output Shape              Param #   \n",
            "=================================================================\n",
            " lstm (LSTM)                 (None, 100, 50)           10400     \n",
            "                                                                 \n",
            " dropout (Dropout)           (None, 100, 50)           0         \n",
            "                                                                 \n",
            " lstm_1 (LSTM)               (None, 100, 60)           26640     \n",
            "                                                                 \n",
            " dropout_1 (Dropout)         (None, 100, 60)           0         \n",
            "                                                                 \n",
            " lstm_2 (LSTM)               (None, 100, 80)           45120     \n",
            "                                                                 \n",
            " dropout_2 (Dropout)         (None, 100, 80)           0         \n",
            "                                                                 \n",
            " lstm_3 (LSTM)               (None, 120)               96480     \n",
            "                                                                 \n",
            " dropout_3 (Dropout)         (None, 120)               0         \n",
            "                                                                 \n",
            " dense (Dense)               (None, 1)                 121       \n",
            "                                                                 \n",
            "=================================================================\n",
            "Total params: 178,761\n",
            "Trainable params: 178,761\n",
            "Non-trainable params: 0\n",
            "_________________________________________________________________\n"
          ]
        }
      ]
    },
    {
      "cell_type": "code",
      "source": [
        "model.compile(optimizer='adam', loss = 'mean_squared_error')\n",
        "model.fit(x_train , y_train, epochs = 5)"
      ],
      "metadata": {
        "id": "b8fU2NQQl9kt",
        "colab": {
          "base_uri": "https://localhost:8080/"
        },
        "outputId": "31a21c7f-03c8-4f37-c648-1c8f0d09099e"
      },
      "execution_count": 15,
      "outputs": [
        {
          "output_type": "stream",
          "name": "stdout",
          "text": [
            "Epoch 1/5\n",
            "8/8 [==============================] - 9s 496ms/step - loss: 0.2676\n",
            "Epoch 2/5\n",
            "8/8 [==============================] - 4s 479ms/step - loss: 0.1223\n",
            "Epoch 3/5\n",
            "8/8 [==============================] - 2s 256ms/step - loss: 0.0672\n",
            "Epoch 4/5\n",
            "8/8 [==============================] - 2s 258ms/step - loss: 0.0562\n",
            "Epoch 5/5\n",
            "8/8 [==============================] - 2s 255ms/step - loss: 0.0409\n"
          ]
        },
        {
          "output_type": "execute_result",
          "data": {
            "text/plain": [
              "<keras.callbacks.History at 0x7fe0fa67a6b0>"
            ]
          },
          "metadata": {},
          "execution_count": 15
        }
      ]
    },
    {
      "cell_type": "code",
      "source": [
        "past_100_days = data_training.tail(100)"
      ],
      "metadata": {
        "id": "feWUlfIGmF5l"
      },
      "execution_count": 16,
      "outputs": []
    },
    {
      "cell_type": "code",
      "source": [
        "final_df = past_100_days.append(data_testing, ignore_index=True)"
      ],
      "metadata": {
        "id": "E6itNq6hmQR8",
        "colab": {
          "base_uri": "https://localhost:8080/"
        },
        "outputId": "14e1f910-4dbc-4979-d7b7-20c680e84a37"
      },
      "execution_count": 17,
      "outputs": [
        {
          "output_type": "stream",
          "name": "stderr",
          "text": [
            "<ipython-input-17-27e824f269e9>:1: FutureWarning: The frame.append method is deprecated and will be removed from pandas in a future version. Use pandas.concat instead.\n",
            "  final_df = past_100_days.append(data_testing, ignore_index=True)\n"
          ]
        }
      ]
    },
    {
      "cell_type": "code",
      "source": [
        "final_df.head()"
      ],
      "metadata": {
        "id": "y57CM-i3oBs8",
        "colab": {
          "base_uri": "https://localhost:8080/",
          "height": 206
        },
        "outputId": "d4df6715-0660-4446-ab5a-84d8905b8cc4"
      },
      "execution_count": 18,
      "outputs": [
        {
          "output_type": "execute_result",
          "data": {
            "text/plain": [
              "        Close\n",
              "0  277.899994\n",
              "1  276.899994\n",
              "2  274.950012\n",
              "3  279.399994\n",
              "4  281.049988"
            ],
            "text/html": [
              "\n",
              "  <div id=\"df-f0814a92-0b80-4a51-a696-6d6a16c7cb13\">\n",
              "    <div class=\"colab-df-container\">\n",
              "      <div>\n",
              "<style scoped>\n",
              "    .dataframe tbody tr th:only-of-type {\n",
              "        vertical-align: middle;\n",
              "    }\n",
              "\n",
              "    .dataframe tbody tr th {\n",
              "        vertical-align: top;\n",
              "    }\n",
              "\n",
              "    .dataframe thead th {\n",
              "        text-align: right;\n",
              "    }\n",
              "</style>\n",
              "<table border=\"1\" class=\"dataframe\">\n",
              "  <thead>\n",
              "    <tr style=\"text-align: right;\">\n",
              "      <th></th>\n",
              "      <th>Close</th>\n",
              "    </tr>\n",
              "  </thead>\n",
              "  <tbody>\n",
              "    <tr>\n",
              "      <th>0</th>\n",
              "      <td>277.899994</td>\n",
              "    </tr>\n",
              "    <tr>\n",
              "      <th>1</th>\n",
              "      <td>276.899994</td>\n",
              "    </tr>\n",
              "    <tr>\n",
              "      <th>2</th>\n",
              "      <td>274.950012</td>\n",
              "    </tr>\n",
              "    <tr>\n",
              "      <th>3</th>\n",
              "      <td>279.399994</td>\n",
              "    </tr>\n",
              "    <tr>\n",
              "      <th>4</th>\n",
              "      <td>281.049988</td>\n",
              "    </tr>\n",
              "  </tbody>\n",
              "</table>\n",
              "</div>\n",
              "      <button class=\"colab-df-convert\" onclick=\"convertToInteractive('df-f0814a92-0b80-4a51-a696-6d6a16c7cb13')\"\n",
              "              title=\"Convert this dataframe to an interactive table.\"\n",
              "              style=\"display:none;\">\n",
              "        \n",
              "  <svg xmlns=\"http://www.w3.org/2000/svg\" height=\"24px\"viewBox=\"0 0 24 24\"\n",
              "       width=\"24px\">\n",
              "    <path d=\"M0 0h24v24H0V0z\" fill=\"none\"/>\n",
              "    <path d=\"M18.56 5.44l.94 2.06.94-2.06 2.06-.94-2.06-.94-.94-2.06-.94 2.06-2.06.94zm-11 1L8.5 8.5l.94-2.06 2.06-.94-2.06-.94L8.5 2.5l-.94 2.06-2.06.94zm10 10l.94 2.06.94-2.06 2.06-.94-2.06-.94-.94-2.06-.94 2.06-2.06.94z\"/><path d=\"M17.41 7.96l-1.37-1.37c-.4-.4-.92-.59-1.43-.59-.52 0-1.04.2-1.43.59L10.3 9.45l-7.72 7.72c-.78.78-.78 2.05 0 2.83L4 21.41c.39.39.9.59 1.41.59.51 0 1.02-.2 1.41-.59l7.78-7.78 2.81-2.81c.8-.78.8-2.07 0-2.86zM5.41 20L4 18.59l7.72-7.72 1.47 1.35L5.41 20z\"/>\n",
              "  </svg>\n",
              "      </button>\n",
              "      \n",
              "  <style>\n",
              "    .colab-df-container {\n",
              "      display:flex;\n",
              "      flex-wrap:wrap;\n",
              "      gap: 12px;\n",
              "    }\n",
              "\n",
              "    .colab-df-convert {\n",
              "      background-color: #E8F0FE;\n",
              "      border: none;\n",
              "      border-radius: 50%;\n",
              "      cursor: pointer;\n",
              "      display: none;\n",
              "      fill: #1967D2;\n",
              "      height: 32px;\n",
              "      padding: 0 0 0 0;\n",
              "      width: 32px;\n",
              "    }\n",
              "\n",
              "    .colab-df-convert:hover {\n",
              "      background-color: #E2EBFA;\n",
              "      box-shadow: 0px 1px 2px rgba(60, 64, 67, 0.3), 0px 1px 3px 1px rgba(60, 64, 67, 0.15);\n",
              "      fill: #174EA6;\n",
              "    }\n",
              "\n",
              "    [theme=dark] .colab-df-convert {\n",
              "      background-color: #3B4455;\n",
              "      fill: #D2E3FC;\n",
              "    }\n",
              "\n",
              "    [theme=dark] .colab-df-convert:hover {\n",
              "      background-color: #434B5C;\n",
              "      box-shadow: 0px 1px 3px 1px rgba(0, 0, 0, 0.15);\n",
              "      filter: drop-shadow(0px 1px 2px rgba(0, 0, 0, 0.3));\n",
              "      fill: #FFFFFF;\n",
              "    }\n",
              "  </style>\n",
              "\n",
              "      <script>\n",
              "        const buttonEl =\n",
              "          document.querySelector('#df-f0814a92-0b80-4a51-a696-6d6a16c7cb13 button.colab-df-convert');\n",
              "        buttonEl.style.display =\n",
              "          google.colab.kernel.accessAllowed ? 'block' : 'none';\n",
              "\n",
              "        async function convertToInteractive(key) {\n",
              "          const element = document.querySelector('#df-f0814a92-0b80-4a51-a696-6d6a16c7cb13');\n",
              "          const dataTable =\n",
              "            await google.colab.kernel.invokeFunction('convertToInteractive',\n",
              "                                                     [key], {});\n",
              "          if (!dataTable) return;\n",
              "\n",
              "          const docLinkHtml = 'Like what you see? Visit the ' +\n",
              "            '<a target=\"_blank\" href=https://colab.research.google.com/notebooks/data_table.ipynb>data table notebook</a>'\n",
              "            + ' to learn more about interactive tables.';\n",
              "          element.innerHTML = '';\n",
              "          dataTable['output_type'] = 'display_data';\n",
              "          await google.colab.output.renderOutput(dataTable, element);\n",
              "          const docLink = document.createElement('div');\n",
              "          docLink.innerHTML = docLinkHtml;\n",
              "          element.appendChild(docLink);\n",
              "        }\n",
              "      </script>\n",
              "    </div>\n",
              "  </div>\n",
              "  "
            ]
          },
          "metadata": {},
          "execution_count": 18
        }
      ]
    },
    {
      "cell_type": "code",
      "source": [
        "input_data = scaler.fit_transform(final_df)\n"
      ],
      "metadata": {
        "id": "IC3lDRRJmTfM"
      },
      "execution_count": 19,
      "outputs": []
    },
    {
      "cell_type": "code",
      "source": [
        "input_data.shape"
      ],
      "metadata": {
        "id": "V9iXEzzHnZJU",
        "colab": {
          "base_uri": "https://localhost:8080/"
        },
        "outputId": "024b3cc0-735c-4525-a028-695b84711783"
      },
      "execution_count": 20,
      "outputs": [
        {
          "output_type": "execute_result",
          "data": {
            "text/plain": [
              "(243, 1)"
            ]
          },
          "metadata": {},
          "execution_count": 20
        }
      ]
    },
    {
      "cell_type": "code",
      "source": [
        "x_test = []\n",
        "y_test = []\n",
        "for i in range(100, input_data.shape[0]):\n",
        "    x_test.append(input_data[i-100: i])\n",
        "    y_test.append(input_data[i, 0])"
      ],
      "metadata": {
        "id": "ryA9UdJNmcMt"
      },
      "execution_count": 21,
      "outputs": []
    },
    {
      "cell_type": "code",
      "source": [
        "x_test, y_test = np.array(x_test), np.array(y_test)\n",
        "print(x_test.shape)\n",
        "print(y_test.shape)"
      ],
      "metadata": {
        "id": "tctqKnGQmf3s",
        "colab": {
          "base_uri": "https://localhost:8080/"
        },
        "outputId": "3624edf4-bd73-4ae4-fb57-fbfe525f2ac8"
      },
      "execution_count": 22,
      "outputs": [
        {
          "output_type": "stream",
          "name": "stdout",
          "text": [
            "(143, 100, 1)\n",
            "(143,)\n"
          ]
        }
      ]
    },
    {
      "cell_type": "code",
      "source": [
        "#making prediction\n",
        "\n",
        "y_predicted= model.predict(x_test)"
      ],
      "metadata": {
        "id": "dRRABTvDnNvz",
        "colab": {
          "base_uri": "https://localhost:8080/"
        },
        "outputId": "89baef80-2c4e-4e18-e69e-defc9fb8da02"
      },
      "execution_count": 23,
      "outputs": [
        {
          "output_type": "stream",
          "name": "stdout",
          "text": [
            "5/5 [==============================] - 1s 71ms/step\n"
          ]
        }
      ]
    },
    {
      "cell_type": "code",
      "source": [
        "y_predicted.shape"
      ],
      "metadata": {
        "id": "8hfOYhB0mhRH",
        "colab": {
          "base_uri": "https://localhost:8080/"
        },
        "outputId": "4b528d8d-6fce-44bf-d734-9d0b36d6ffa1"
      },
      "execution_count": 24,
      "outputs": [
        {
          "output_type": "execute_result",
          "data": {
            "text/plain": [
              "(143, 1)"
            ]
          },
          "metadata": {},
          "execution_count": 24
        }
      ]
    },
    {
      "cell_type": "code",
      "source": [
        "y_predicted"
      ],
      "metadata": {
        "id": "ZQXdvcAeoiJz",
        "colab": {
          "base_uri": "https://localhost:8080/"
        },
        "outputId": "80d7d5fe-d080-455f-87d4-deb4f06ec086"
      },
      "execution_count": 25,
      "outputs": [
        {
          "output_type": "execute_result",
          "data": {
            "text/plain": [
              "array([[0.36523464],\n",
              "       [0.36931205],\n",
              "       [0.3738976 ],\n",
              "       [0.3789568 ],\n",
              "       [0.38445705],\n",
              "       [0.39036575],\n",
              "       [0.39664418],\n",
              "       [0.40322316],\n",
              "       [0.41001636],\n",
              "       [0.41691923],\n",
              "       [0.42380524],\n",
              "       [0.43058804],\n",
              "       [0.4371941 ],\n",
              "       [0.44356692],\n",
              "       [0.44966117],\n",
              "       [0.45543244],\n",
              "       [0.4608283 ],\n",
              "       [0.4657836 ],\n",
              "       [0.47026643],\n",
              "       [0.47426286],\n",
              "       [0.4777763 ],\n",
              "       [0.4808186 ],\n",
              "       [0.483446  ],\n",
              "       [0.48572016],\n",
              "       [0.48768556],\n",
              "       [0.48937157],\n",
              "       [0.4908056 ],\n",
              "       [0.49202523],\n",
              "       [0.49309167],\n",
              "       [0.49405718],\n",
              "       [0.4949731 ],\n",
              "       [0.49585575],\n",
              "       [0.4967053 ],\n",
              "       [0.4975257 ],\n",
              "       [0.49832505],\n",
              "       [0.49911645],\n",
              "       [0.49991342],\n",
              "       [0.50072104],\n",
              "       [0.5015336 ],\n",
              "       [0.5023187 ],\n",
              "       [0.5030448 ],\n",
              "       [0.5037068 ],\n",
              "       [0.5042919 ],\n",
              "       [0.5048102 ],\n",
              "       [0.5052645 ],\n",
              "       [0.50570416],\n",
              "       [0.50615436],\n",
              "       [0.50663954],\n",
              "       [0.5072103 ],\n",
              "       [0.5079433 ],\n",
              "       [0.5088607 ],\n",
              "       [0.50994176],\n",
              "       [0.51114136],\n",
              "       [0.51238525],\n",
              "       [0.51360554],\n",
              "       [0.51474273],\n",
              "       [0.5157648 ],\n",
              "       [0.5166359 ],\n",
              "       [0.5173191 ],\n",
              "       [0.5177824 ],\n",
              "       [0.51796323],\n",
              "       [0.5178179 ],\n",
              "       [0.5173506 ],\n",
              "       [0.51658535],\n",
              "       [0.5155422 ],\n",
              "       [0.51425195],\n",
              "       [0.5127835 ],\n",
              "       [0.51122236],\n",
              "       [0.5096608 ],\n",
              "       [0.5081795 ],\n",
              "       [0.50684613],\n",
              "       [0.50570846],\n",
              "       [0.50478953],\n",
              "       [0.5041016 ],\n",
              "       [0.5036478 ],\n",
              "       [0.50342345],\n",
              "       [0.50341666],\n",
              "       [0.5036407 ],\n",
              "       [0.5041653 ],\n",
              "       [0.5050291 ],\n",
              "       [0.50619876],\n",
              "       [0.50761884],\n",
              "       [0.50922537],\n",
              "       [0.510987  ],\n",
              "       [0.5128543 ],\n",
              "       [0.51479536],\n",
              "       [0.5167792 ],\n",
              "       [0.5188225 ],\n",
              "       [0.5209281 ],\n",
              "       [0.5230887 ],\n",
              "       [0.5253249 ],\n",
              "       [0.5276604 ],\n",
              "       [0.5300894 ],\n",
              "       [0.53259474],\n",
              "       [0.5351528 ],\n",
              "       [0.5377707 ],\n",
              "       [0.5405001 ],\n",
              "       [0.5433899 ],\n",
              "       [0.54650193],\n",
              "       [0.5499037 ],\n",
              "       [0.5536087 ],\n",
              "       [0.55763847],\n",
              "       [0.56200624],\n",
              "       [0.5667057 ],\n",
              "       [0.57172316],\n",
              "       [0.57704943],\n",
              "       [0.5826846 ],\n",
              "       [0.58855605],\n",
              "       [0.5945744 ],\n",
              "       [0.6006924 ],\n",
              "       [0.606891  ],\n",
              "       [0.613175  ],\n",
              "       [0.6195567 ],\n",
              "       [0.6260138 ],\n",
              "       [0.6325304 ],\n",
              "       [0.6390659 ],\n",
              "       [0.6455193 ],\n",
              "       [0.6517909 ],\n",
              "       [0.65777475],\n",
              "       [0.66334444],\n",
              "       [0.6684049 ],\n",
              "       [0.67291147],\n",
              "       [0.67679   ],\n",
              "       [0.68001395],\n",
              "       [0.6825834 ],\n",
              "       [0.6845129 ],\n",
              "       [0.6857651 ],\n",
              "       [0.68629485],\n",
              "       [0.68606275],\n",
              "       [0.6851077 ],\n",
              "       [0.68350846],\n",
              "       [0.6813511 ],\n",
              "       [0.6787028 ],\n",
              "       [0.6756683 ],\n",
              "       [0.672404  ],\n",
              "       [0.6690544 ],\n",
              "       [0.66576403],\n",
              "       [0.6626304 ],\n",
              "       [0.6597225 ],\n",
              "       [0.65707165],\n",
              "       [0.65467554],\n",
              "       [0.6524733 ],\n",
              "       [0.6503302 ]], dtype=float32)"
            ]
          },
          "metadata": {},
          "execution_count": 25
        }
      ]
    },
    {
      "cell_type": "code",
      "source": [
        "scaler.scale_"
      ],
      "metadata": {
        "id": "PIow4GMvmoyT",
        "colab": {
          "base_uri": "https://localhost:8080/"
        },
        "outputId": "9279991d-5666-405e-d9d9-53ac84b38c5e"
      },
      "execution_count": 26,
      "outputs": [
        {
          "output_type": "execute_result",
          "data": {
            "text/plain": [
              "array([0.00391389])"
            ]
          },
          "metadata": {},
          "execution_count": 26
        }
      ]
    },
    {
      "cell_type": "code",
      "source": [
        "scale_factor = 1/0.00988704\n",
        "y_predicted = y_predicted * scale_factor\n",
        "y_test = y_test * scale_factor"
      ],
      "metadata": {
        "id": "JPogNcromqB8"
      },
      "execution_count": 27,
      "outputs": []
    },
    {
      "cell_type": "code",
      "source": [
        "plt.figure(figsize=(12,6))\n",
        "plt.plot(y_test, 'b', label = 'Original Price')\n",
        "plt.plot(y_predicted, 'r', label = 'Predicted Price')\n",
        "plt.xlabel('Time')\n",
        "plt.ylabel('Price')\n",
        "plt.legend()\n",
        "plt.show"
      ],
      "metadata": {
        "id": "81UPuJ3hms9N",
        "colab": {
          "base_uri": "https://localhost:8080/",
          "height": 559
        },
        "outputId": "67564e1d-e660-47be-9516-099d12f40e97"
      },
      "execution_count": 28,
      "outputs": [
        {
          "output_type": "execute_result",
          "data": {
            "text/plain": [
              "<function matplotlib.pyplot.show(close=None, block=None)>"
            ]
          },
          "metadata": {},
          "execution_count": 28
        },
        {
          "output_type": "display_data",
          "data": {
            "text/plain": [
              "<Figure size 1200x600 with 1 Axes>"
            ],
            "image/png": "[encoded data removed]"
          },
          "metadata": {}
        }
      ]
    },
    {
      "cell_type": "code",
      "source": [],
      "metadata": {
        "id": "pddVrMoPv_wM"
      },
      "execution_count": null,
      "outputs": []
    }
  ]
}
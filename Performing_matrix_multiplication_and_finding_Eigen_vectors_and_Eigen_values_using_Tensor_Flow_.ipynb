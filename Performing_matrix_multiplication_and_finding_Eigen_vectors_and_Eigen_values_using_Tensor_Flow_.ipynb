{
  "nbformat": 4,
  "nbformat_minor": 0,
  "metadata": {
    "colab": {
      "provenance": []
    },
    "kernelspec": {
      "name": "python3",
      "display_name": "Python 3"
    },
    "language_info": {
      "name": "python"
    }
  },
  "cells": [
    {
      "cell_type": "markdown",
      "source": [
        "Addition of 2 vectors"
      ],
      "metadata": {
        "id": "FIeG7hiJdUqw"
      }
    },
    {
      "cell_type": "code",
      "source": [
        "\n",
        "import tensorflow as tf"
      ],
      "metadata": {
        "id": "tEXlqhVddqPD"
      },
      "execution_count": 1,
      "outputs": []
    },
    {
      "cell_type": "code",
      "source": [
        "x=tf.constant([1,2,3,4,5,6], shape=[2,3])\n",
        "y=tf.constant([9,8,3,7,5,6], shape=[3,2])"
      ],
      "metadata": {
        "id": "hYIXykoGfylx"
      },
      "execution_count": 2,
      "outputs": []
    },
    {
      "cell_type": "code",
      "source": [
        "z =tf.matmul(x,y)\n",
        "print(z)"
      ],
      "metadata": {
        "colab": {
          "base_uri": "https://localhost:8080/"
        },
        "id": "xLEOHB4pgGsR",
        "outputId": "2096295b-7def-4064-a90d-0969bfb3370b"
      },
      "execution_count": 3,
      "outputs": [
        {
          "output_type": "stream",
          "name": "stdout",
          "text": [
            "tf.Tensor(\n",
            "[[ 30  40]\n",
            " [ 81 103]], shape=(2, 2), dtype=int32)\n"
          ]
        }
      ]
    },
    {
      "cell_type": "code",
      "source": [
        "e_matrix_A = tf.random.uniform([2,2],minval=3,maxval=10,dtype=tf.float32, name=\"matrixA\")\n",
        "print(\"Matrix A:{}\".format(e_matrix_A))\n"
      ],
      "metadata": {
        "colab": {
          "base_uri": "https://localhost:8080/"
        },
        "id": "jK4E0EW7gP0y",
        "outputId": "276b93cd-11ef-4db0-9be8-e3980261eed8"
      },
      "execution_count": 4,
      "outputs": [
        {
          "output_type": "stream",
          "name": "stdout",
          "text": [
            "Matrix A:[[5.570237  8.73127  ]\n",
            " [5.9045157 7.621953 ]]\n"
          ]
        }
      ]
    },
    {
      "cell_type": "code",
      "source": [
        "eigen_value, eigen_vector=tf.linalg.eigh(e_matrix_A)\n",
        "print(\"eigen vector:\\n\\n{}\\n\\n \\neigen values:{}\".format(eigen_vector, eigen_value))"
      ],
      "metadata": {
        "colab": {
          "base_uri": "https://localhost:8080/"
        },
        "id": "s2848974gy5A",
        "outputId": "96f0fa06-bac2-46c1-f3ef-f4f45b67fd96"
      },
      "execution_count": 5,
      "outputs": [
        {
          "output_type": "stream",
          "name": "stdout",
          "text": [
            "eigen vector:\n",
            "\n",
            "[[-0.7652375  -0.64374804]\n",
            " [ 0.64374804 -0.7652375 ]]\n",
            "\n",
            " \n",
            "eigen values:[ 0.603125 12.589066]\n"
          ]
        }
      ]
    },
    {
      "cell_type": "code",
      "source": [],
      "metadata": {
        "id": "S6OgYWTthQ6Y"
      },
      "execution_count": null,
      "outputs": []
    }
  ]
}
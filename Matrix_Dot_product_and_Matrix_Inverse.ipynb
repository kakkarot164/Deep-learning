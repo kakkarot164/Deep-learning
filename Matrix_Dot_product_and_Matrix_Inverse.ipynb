{
  "nbformat": 4,
  "nbformat_minor": 0,
  "metadata": {
    "colab": {
      "provenance": []
    },
    "kernelspec": {
      "name": "python3",
      "display_name": "Python 3"
    },
    "language_info": {
      "name": "python"
    }
  },
  "cells": [
    {
      "cell_type": "markdown",
      "source": [
        "Addition of 2 vectors"
      ],
      "metadata": {
        "id": "FIeG7hiJdUqw"
      }
    },
    {
      "cell_type": "code",
      "source": [
        "import numpy as np\n",
        "import tensorflow as tf"
      ],
      "metadata": {
        "id": "tEXlqhVddqPD"
      },
      "execution_count": 1,
      "outputs": []
    },
    {
      "cell_type": "markdown",
      "source": [
        "Matrix dot product"
      ],
      "metadata": {
        "id": "99hhu76cduxA"
      }
    },
    {
      "cell_type": "code",
      "source": [
        "A= [2,-3]\n",
        "B=[4,3]\n",
        "c = np.dot(A,B)\n",
        "c"
      ],
      "metadata": {
        "colab": {
          "base_uri": "https://localhost:8080/"
        },
        "id": "MBLLgMLJdntL",
        "outputId": "ef9a5e58-32a4-4815-8ff6-51d33d9ab7fe"
      },
      "execution_count": 2,
      "outputs": [
        {
          "output_type": "execute_result",
          "data": {
            "text/plain": [
              "-1"
            ]
          },
          "metadata": {},
          "execution_count": 2
        }
      ]
    },
    {
      "cell_type": "markdown",
      "source": [
        "Matrix of inverse"
      ],
      "metadata": {
        "id": "76AOMC_yfS8u"
      }
    },
    {
      "cell_type": "code",
      "source": [
        "Matrix=np.array([[1,2,3],[3,4,5],[8,4,9]])\n",
        "Inverse_Matrix=np.linalg.inv(Matrix)\n",
        "Inverse_Matrix\n"
      ],
      "metadata": {
        "colab": {
          "base_uri": "https://localhost:8080/"
        },
        "id": "zMplKvQyefC5",
        "outputId": "f5468ef8-7977-4ad9-d16a-de8999b5c602"
      },
      "execution_count": 3,
      "outputs": [
        {
          "output_type": "execute_result",
          "data": {
            "text/plain": [
              "array([[-0.88888889,  0.33333333,  0.11111111],\n",
              "       [-0.72222222,  0.83333333, -0.22222222],\n",
              "       [ 1.11111111, -0.66666667,  0.11111111]])"
            ]
          },
          "metadata": {},
          "execution_count": 3
        }
      ]
    }
  ]
}